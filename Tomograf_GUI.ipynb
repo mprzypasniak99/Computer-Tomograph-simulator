{
 "cells": [
  {
   "cell_type": "code",
   "execution_count": 1,
   "metadata": {},
   "outputs": [],
   "source": [
    "import matplotlib.pyplot as plt\n",
    "import numpy as np\n",
    "import skimage.io as io\n",
    "import skimage.draw as draw\n",
    "from __future__ import print_function\n",
    "from ipywidgets import interact, interactive, fixed, interact_manual\n",
    "import ipywidgets as widgets\n",
    "import datetime\n",
    "from Scanner import *\n",
    "import pydicom\n",
    "\n",
    "\n",
    "%matplotlib inline"
   ]
  },
  {
   "cell_type": "markdown",
   "metadata": {},
   "source": [
    "Funkcje pomocnicze"
   ]
  },
  {
   "cell_type": "code",
   "execution_count": 2,
   "metadata": {},
   "outputs": [],
   "source": [
    "def conductScan(nDet: int, phi: float, noViews: int, scanner: Scanner, useFilter: bool):\n",
    "    s.set_no_detectors(nDet)\n",
    "    s.set_phi(phi)\n",
    "    s.set_no_views(noViews)\n",
    "    if(useFilter):\n",
    "        scanner.gen_filter(21)\n",
    "    else:\n",
    "        s.gen_filter(0)\n",
    "    s.gen_spect()\n",
    "    \n",
    "    io.imshow(s.get_spect())\n",
    "    plt.show()\n",
    "    \n",
    "    io.imshow(s.get_restored_img())\n",
    "    plt.show()\n",
    "    \n",
    "    scanner.view_mse()\n",
    "    plt.show()\n",
    "\n",
    "    interact(show_steps, number_of_step=(0, s.get_no_steps() - 1))\n",
    "    \n",
    "def show_steps(number_of_step: int):\n",
    "    io.imshow(s.get_step_img(number_of_step))\n",
    "    plt.show()\n",
    "    \n",
    "    \n",
    "def readImage(name: str, scanner: Scanner):\n",
    "    img = io.imread(name, as_gray=True)\n",
    "    scanner.load_image(img)\n",
    "    io.imshow(img)\n",
    "    plt.show()\n",
    "    \n",
    "def readDicom(path: str, show_patient_data: bool, show_date: bool, show_comments: bool):\n",
    "    dcm = pydicom.dcmread(path)\n",
    "    image = dcm.pixel_array\n",
    "    \n",
    "    io.imshow(image)\n",
    "    \n",
    "    if show_patient_data:\n",
    "        print('''Dane pacjenta:\\nImię i nazwisko: {}\\nWiek: {}\n",
    "              Płeć: {}\\nID: {}\\n'''.format(dcm.PatientName, dcm.PatientAge, dcm.PatientSex, dcm.PatientID))\n",
    "    \n",
    "    if show_date:\n",
    "        print(\"Data badania: {}\\nGodzina badania: {}\\n\".format(dcm.ContentDate, dcm.ContentTime))\n",
    "        \n",
    "    if show_comments:\n",
    "        print(\"Komentarze: {}\\n\".format(dcm.ImageComments))"
   ]
  },
  {
   "cell_type": "markdown",
   "metadata": {},
   "source": [
    "# Wczytanie pliku do przeskanowania"
   ]
  },
  {
   "cell_type": "code",
   "execution_count": 3,
   "metadata": {},
   "outputs": [
    {
     "data": {
      "application/vnd.jupyter.widget-view+json": {
       "model_id": "b0cb4bc43ee1482191c2711ff74a4756",
       "version_major": 2,
       "version_minor": 0
      },
      "text/plain": [
       "interactive(children=(Dropdown(description='name', options=('Kropka.jpg', 'CT_ScoutView.jpg', 'CT_ScoutView-la…"
      ]
     },
     "metadata": {},
     "output_type": "display_data"
    },
    {
     "data": {
      "text/plain": [
       "<function __main__.readImage(name: str, scanner: Scanner.Scanner)>"
      ]
     },
     "execution_count": 3,
     "metadata": {},
     "output_type": "execute_result"
    }
   ],
   "source": [
    "s = Scanner()\n",
    "interact(readImage, name=[\"Kropka.jpg\", \"CT_ScoutView.jpg\", \"CT_ScoutView-large.jpg\",\n",
    "                          \"Kolo.jpg\", \"Kwadraty2.jpg\", \"Paski2.jpg\", \"SADDLE_PE.JPG\", \"SADDLE_PE-large.JPG\",\n",
    "                         \"Shepp_logan.jpg\"],\n",
    "         scanner=fixed(s))"
   ]
  },
  {
   "cell_type": "markdown",
   "metadata": {},
   "source": [
    "# Przeprowadzenie skanu i wyświetlenie wyników"
   ]
  },
  {
   "cell_type": "markdown",
   "metadata": {},
   "source": [
    "Po przeprowadzeniu skanu pojawi się przeglądarka kolejnych kroków tworzenia skanu"
   ]
  },
  {
   "cell_type": "code",
   "execution_count": 4,
   "metadata": {},
   "outputs": [
    {
     "data": {
      "application/vnd.jupyter.widget-view+json": {
       "model_id": "3bf76a34654345ef93b15d5e0623ee73",
       "version_major": 2,
       "version_minor": 0
      },
      "text/plain": [
       "interactive(children=(IntSlider(value=180, description='nDet', max=360, min=1), FloatSlider(value=3.1415926535…"
      ]
     },
     "metadata": {},
     "output_type": "display_data"
    },
    {
     "data": {
      "text/plain": [
       "<function __main__.conductScan(nDet: int, phi: float, noViews: int, scanner: Scanner.Scanner, useFilter: bool)>"
      ]
     },
     "execution_count": 4,
     "metadata": {},
     "output_type": "execute_result"
    }
   ],
   "source": [
    "interact_manual(conductScan, nDet=(1, 360), phi=(np.pi/180, 2* np.pi, np.pi/180),  \n",
    "         noViews=(5, 360, 5), scanner=fixed(s), useFilter=True)"
   ]
  },
  {
   "cell_type": "markdown",
   "metadata": {},
   "source": [
    "# Zapisy wyniku skanu do pliku DICOM"
   ]
  },
  {
   "cell_type": "code",
   "execution_count": 5,
   "metadata": {},
   "outputs": [
    {
     "data": {
      "application/vnd.jupyter.widget-view+json": {
       "model_id": "63413201ac1345cb8300a09a10ed8a2e",
       "version_major": 2,
       "version_minor": 0
      },
      "text/plain": [
       "interactive(children=(Text(value='new.dcm', description='filename'), Text(value='DOE^John', description='patie…"
      ]
     },
     "metadata": {},
     "output_type": "display_data"
    },
    {
     "data": {
      "text/plain": [
       "<function ipywidgets.widgets.interaction._InteractFactory.__call__.<locals>.<lambda>(*args, **kwargs)>"
      ]
     },
     "execution_count": 5,
     "metadata": {},
     "output_type": "execute_result"
    }
   ],
   "source": [
    "interact_manual(s.save_to_dicom, filename=\"new.dcm\", patient_name=\"DOE^John\", patient_sex=\"male\",\n",
    "        patient_age=\"42\", patient_id=\"123\", scan_date=widgets.DatePicker(value=datetime.datetime.now()), \n",
    "         image_comments=\"\")"
   ]
  },
  {
   "cell_type": "markdown",
   "metadata": {},
   "source": [
    "# Wczytanie pliku DICOM i wyświetlenie obrazu"
   ]
  },
  {
   "cell_type": "code",
   "execution_count": 6,
   "metadata": {},
   "outputs": [
    {
     "data": {
      "application/vnd.jupyter.widget-view+json": {
       "model_id": "97e7d0025a9b4b9790cbefbf286ff6be",
       "version_major": 2,
       "version_minor": 0
      },
      "text/plain": [
       "interactive(children=(Text(value='new.dcm', description='path'), Checkbox(value=False, description='show_patie…"
      ]
     },
     "metadata": {},
     "output_type": "display_data"
    },
    {
     "data": {
      "text/plain": [
       "<function __main__.readDicom(path: str, show_patient_data: bool, show_date: bool, show_comments: bool)>"
      ]
     },
     "execution_count": 6,
     "metadata": {},
     "output_type": "execute_result"
    }
   ],
   "source": [
    "interact_manual(readDicom, path=\"new.dcm\", show_patient_data=False, show_date=False, show_comments=False)"
   ]
  }
 ],
 "metadata": {
  "kernelspec": {
   "display_name": "Python 3",
   "language": "python",
   "name": "python3"
  },
  "language_info": {
   "codemirror_mode": {
    "name": "ipython",
    "version": 3
   },
   "file_extension": ".py",
   "mimetype": "text/x-python",
   "name": "python",
   "nbconvert_exporter": "python",
   "pygments_lexer": "ipython3",
   "version": "3.9.2"
  }
 },
 "nbformat": 4,
 "nbformat_minor": 4
}
